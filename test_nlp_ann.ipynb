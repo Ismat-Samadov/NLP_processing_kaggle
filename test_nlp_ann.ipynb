{
 "cells": [
  {
   "cell_type": "code",
   "execution_count": 1,
   "id": "b6f3286c-967b-4021-83c8-75ee75bc592e",
   "metadata": {},
   "outputs": [],
   "source": [
    "# df\n",
    "import pandas as pd\n",
    "import string\n",
    "import numpy as np\n",
    "import time\n",
    "\n",
    "# visualize\n",
    "import matplotlib.pyplot as plt\n",
    "import seaborn as sns\n",
    "\n",
    "# nlp libraries\n",
    "import nltk\n",
    "from nltk.corpus import stopwords\n",
    "from sklearn.feature_extraction.text import TfidfTransformer\n",
    "from sklearn.feature_extraction.text import CountVectorizer\n",
    "\n",
    "# preprocessing tools\n",
    "from sklearn.preprocessing import MinMaxScaler\n",
    "from sklearn.model_selection import train_test_split\n",
    "from sklearn.metrics import classification_report\n",
    "\n",
    "# neural net's  and pipeline library\n",
    "from sklearn.pipeline import Pipeline\n",
    "import tensorflow as tf\n",
    "from tensorflow.keras.models import Sequential\n",
    "from tensorflow.keras.layers import Dense , Dropout\n",
    "from tensorflow.keras.callbacks import EarlyStopping\n",
    "\n",
    "\n",
    "# unputting data\n",
    "train=pd.read_csv(r'C:\\Users\\Ismat\\OneDrive\\Рабочий стол\\document\\etc\\lesson_course\\projects\\nlp__kaggle_competition\\train.csv')\n",
    "test=pd.read_csv(r'C:\\Users\\Ismat\\OneDrive\\Рабочий стол\\document\\etc\\lesson_course\\projects\\nlp__kaggle_competition\\test.csv')\n",
    "sample_submission=pd.read_csv(r'C:\\Users\\Ismat\\OneDrive\\Рабочий стол\\document\\etc\\lesson_course\\projects\\nlp__kaggle_competition\\sample_submission.csv')\n",
    "\n",
    "\n",
    "### cleaner function\n",
    "def text_cleaner (text) :\n",
    "    punctuation = [char for char in text if char not in string.punctuation]\n",
    "    punctuation = ''.join (punctuation)\n",
    "    return [word for word in punctuation.split() if word.lower() not in stopwords.words('english')]\n"
   ]
  },
  {
   "cell_type": "code",
   "execution_count": 2,
   "id": "6066b321-e4e9-4447-a86e-eb8a321b3004",
   "metadata": {},
   "outputs": [
    {
     "name": "stdout",
     "output_type": "stream",
     "text": [
      "CPU times: total: 22.8 s\n",
      "Wall time: 23.8 s\n"
     ]
    }
   ],
   "source": [
    "%%time\n",
    "\n",
    "# train\n",
    "transformer = CountVectorizer(analyzer=text_cleaner).fit(train['text'])\n",
    "\n",
    "transformer_bow = transformer.transform(train['text'])\n",
    "\n",
    "tf_idf_transformer = TfidfTransformer().fit(transformer_bow)\n",
    "\n",
    "text_tfidf = tf_idf_transformer.transform(transformer_bow)\n"
   ]
  },
  {
   "cell_type": "code",
   "execution_count": 3,
   "id": "6c372a0b-2fbb-4750-a6c4-6eb4d6139c23",
   "metadata": {},
   "outputs": [
    {
     "name": "stdout",
     "output_type": "stream",
     "text": [
      "CPU times: total: 10.3 s\n",
      "Wall time: 10.5 s\n"
     ]
    }
   ],
   "source": [
    "%%time\n",
    "\n",
    "# test\n",
    "\n",
    "transformer_1 = CountVectorizer(analyzer=text_cleaner).fit(test['text'])\n",
    "\n",
    "transformer_bow_1 = transformer_1.transform(test['text'])\n",
    "\n",
    "tf_idf_transformer_1 = TfidfTransformer().fit(transformer_bow_1)\n",
    "\n",
    "text_tfidf_1 = tf_idf_transformer_1.transform(transformer_bow_1)\n"
   ]
  },
  {
   "cell_type": "code",
   "execution_count": 4,
   "id": "05c558e3-ad6f-4ec2-ac2d-b6b9fe5b9898",
   "metadata": {},
   "outputs": [
    {
     "name": "stdout",
     "output_type": "stream",
     "text": [
      "CPU times: total: 0 ns\n",
      "Wall time: 44.3 ms\n"
     ]
    }
   ],
   "source": [
    "%%time\n",
    "\n",
    "ann = tf.keras.models.Sequential()\n",
    "\n",
    "ann.add(tf.keras.layers.Dense(units=30, activation='relu'))\n",
    "#ann.add(Dropout(.02))\n",
    "\n",
    "ann.add(tf.keras.layers.Dense(units=25, activation='relu'))\n",
    "#ann.add(Dropout(.02))\n",
    "\n",
    "# ann.add(tf.keras.layers.Dense(units=20, activation='relu'))\n",
    "# ann.add(Dropout(.02))\n",
    "\n",
    "# ann.add(tf.keras.layers.Dense(units=25, activation='relu'))\n",
    "# ann.add(Dropout(.02))\n",
    "\n",
    "# ann.add(tf.keras.layers.Dense(units=30, activation='relu'))\n",
    "# ann.add(Dropout(.02))\n",
    "\n",
    "ann.add(tf.keras.layers.Dense(units=1, activation='sigmoid'))\n",
    "\n",
    "ann.compile(optimizer = 'rmsprop', loss = 'binary_crossentropy', metrics = ['accuracy'])\n",
    "\n",
    "#early_stop = EarlyStopping(monitor='accuracy',mode='min')\n"
   ]
  },
  {
   "cell_type": "code",
   "execution_count": null,
   "id": "ed950588-9e45-4784-bb0e-519d6214c8bc",
   "metadata": {
    "scrolled": true,
    "tags": []
   },
   "outputs": [
    {
     "name": "stdout",
     "output_type": "stream",
     "text": [
      "Epoch 1/100\n",
      "77/77 [==============================] - 1s 5ms/step - loss: 0.6367 - accuracy: 0.6509\n",
      "Epoch 2/100\n",
      "77/77 [==============================] - 0s 6ms/step - loss: 0.4582 - accuracy: 0.8363\n",
      "Epoch 3/100\n",
      "77/77 [==============================] - 0s 6ms/step - loss: 0.3059 - accuracy: 0.9053\n",
      "Epoch 4/100\n",
      "77/77 [==============================] - 0s 5ms/step - loss: 0.2103 - accuracy: 0.9304\n",
      "Epoch 5/100\n",
      "77/77 [==============================] - 0s 5ms/step - loss: 0.1544 - accuracy: 0.9471\n",
      "Epoch 6/100\n",
      "77/77 [==============================] - 0s 5ms/step - loss: 0.1177 - accuracy: 0.9576\n",
      "Epoch 7/100\n",
      "77/77 [==============================] - 0s 5ms/step - loss: 0.0915 - accuracy: 0.9676\n",
      "Epoch 8/100\n",
      "77/77 [==============================] - 0s 5ms/step - loss: 0.0728 - accuracy: 0.9756\n",
      "Epoch 9/100\n",
      "77/77 [==============================] - 0s 5ms/step - loss: 0.0591 - accuracy: 0.9802\n",
      "Epoch 10/100\n",
      "77/77 [==============================] - 0s 5ms/step - loss: 0.0487 - accuracy: 0.9832\n",
      "Epoch 11/100\n",
      "77/77 [==============================] - 0s 5ms/step - loss: 0.0405 - accuracy: 0.9863\n",
      "Epoch 12/100\n",
      "77/77 [==============================] - 0s 5ms/step - loss: 0.0344 - accuracy: 0.9887\n",
      "Epoch 13/100\n",
      "77/77 [==============================] - 0s 5ms/step - loss: 0.0299 - accuracy: 0.9895\n",
      "Epoch 14/100\n",
      "77/77 [==============================] - 0s 5ms/step - loss: 0.0257 - accuracy: 0.9905\n",
      "Epoch 15/100\n",
      "77/77 [==============================] - 0s 5ms/step - loss: 0.0225 - accuracy: 0.9915\n",
      "Epoch 16/100\n",
      "77/77 [==============================] - 0s 5ms/step - loss: 0.0207 - accuracy: 0.9915\n",
      "Epoch 17/100\n",
      "77/77 [==============================] - 0s 5ms/step - loss: 0.0179 - accuracy: 0.9928\n",
      "Epoch 18/100\n",
      "77/77 [==============================] - 0s 5ms/step - loss: 0.0165 - accuracy: 0.9936\n",
      "Epoch 19/100\n",
      "77/77 [==============================] - 0s 5ms/step - loss: 0.0148 - accuracy: 0.9938\n",
      "Epoch 20/100\n",
      "77/77 [==============================] - 0s 5ms/step - loss: 0.0142 - accuracy: 0.9945\n",
      "Epoch 21/100\n",
      "77/77 [==============================] - 0s 5ms/step - loss: 0.0125 - accuracy: 0.9954\n",
      "Epoch 22/100\n",
      "77/77 [==============================] - 0s 5ms/step - loss: 0.0125 - accuracy: 0.9947\n",
      "Epoch 23/100\n",
      "77/77 [==============================] - 0s 5ms/step - loss: 0.0120 - accuracy: 0.9951\n",
      "Epoch 24/100\n",
      "77/77 [==============================] - 0s 6ms/step - loss: 0.0115 - accuracy: 0.9957\n",
      "Epoch 25/100\n",
      "77/77 [==============================] - 0s 6ms/step - loss: 0.0110 - accuracy: 0.9957\n",
      "Epoch 26/100\n",
      "77/77 [==============================] - 0s 6ms/step - loss: 0.0102 - accuracy: 0.9950\n",
      "Epoch 27/100\n",
      "77/77 [==============================] - 0s 6ms/step - loss: 0.0100 - accuracy: 0.9961\n",
      "Epoch 28/100\n",
      "77/77 [==============================] - 0s 6ms/step - loss: 0.0098 - accuracy: 0.9954\n",
      "Epoch 29/100\n",
      "77/77 [==============================] - 0s 6ms/step - loss: 0.0095 - accuracy: 0.9955\n",
      "Epoch 30/100\n",
      "77/77 [==============================] - 0s 6ms/step - loss: 0.0087 - accuracy: 0.9958\n",
      "Epoch 31/100\n",
      "77/77 [==============================] - 0s 6ms/step - loss: 0.0093 - accuracy: 0.9961\n",
      "Epoch 32/100\n",
      "77/77 [==============================] - 0s 6ms/step - loss: 0.0089 - accuracy: 0.9951\n",
      "Epoch 33/100\n",
      "77/77 [==============================] - 0s 6ms/step - loss: 0.0089 - accuracy: 0.9958\n",
      "Epoch 34/100\n",
      "77/77 [==============================] - 0s 6ms/step - loss: 0.0088 - accuracy: 0.9959\n",
      "Epoch 35/100\n",
      "65/77 [========================>.....] - ETA: 0s - loss: 0.0093 - accuracy: 0.9954"
     ]
    }
   ],
   "source": [
    "ann.fit(x=text_tfidf.toarray(),y=train['target'],batch_size = 100,epochs =100\n",
    "        #,callbacks=[early_stop]\n",
    "       )   \n",
    "\n",
    "ann_prediction = ann.predict(text_tfidf.toarray())  > 0.5\n",
    "\n",
    "print (classification_report(train['target'], ann_prediction))"
   ]
  },
  {
   "cell_type": "code",
   "execution_count": null,
   "id": "985c18a9-7364-4eb1-bf19-8a69df8bc6f7",
   "metadata": {},
   "outputs": [],
   "source": []
  },
  {
   "cell_type": "code",
   "execution_count": null,
   "id": "417e12ca-e581-4823-a088-5940e598c9ca",
   "metadata": {},
   "outputs": [],
   "source": []
  },
  {
   "cell_type": "code",
   "execution_count": null,
   "id": "3b05c595-e6d5-43e4-909c-7b99d2220d1a",
   "metadata": {},
   "outputs": [],
   "source": []
  },
  {
   "cell_type": "code",
   "execution_count": null,
   "id": "b3cecb97-dbc9-4ccb-87ed-4ca73cd90e16",
   "metadata": {},
   "outputs": [],
   "source": []
  },
  {
   "cell_type": "code",
   "execution_count": null,
   "id": "04044555-c546-4fc1-b9af-edc3e34504d3",
   "metadata": {},
   "outputs": [],
   "source": []
  },
  {
   "cell_type": "code",
   "execution_count": null,
   "id": "c0e9997c-33eb-4a4c-b817-38b4a572665c",
   "metadata": {},
   "outputs": [],
   "source": []
  },
  {
   "cell_type": "code",
   "execution_count": null,
   "id": "922ef5ce-8942-4040-befc-f59e1296056e",
   "metadata": {},
   "outputs": [],
   "source": []
  }
 ],
 "metadata": {
  "kernelspec": {
   "display_name": "Python 3 (ipykernel)",
   "language": "python",
   "name": "python3"
  },
  "language_info": {
   "codemirror_mode": {
    "name": "ipython",
    "version": 3
   },
   "file_extension": ".py",
   "mimetype": "text/x-python",
   "name": "python",
   "nbconvert_exporter": "python",
   "pygments_lexer": "ipython3",
   "version": "3.9.7"
  }
 },
 "nbformat": 4,
 "nbformat_minor": 5
}
