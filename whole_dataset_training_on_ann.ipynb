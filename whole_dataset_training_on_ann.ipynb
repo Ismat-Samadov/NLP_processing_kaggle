{
 "cells": [
  {
   "cell_type": "code",
   "execution_count": 1,
   "id": "b4d93226-93a6-410b-b3cf-b402be96effc",
   "metadata": {},
   "outputs": [],
   "source": [
    "# df\n",
    "import pandas as pd\n",
    "import string\n",
    "import numpy as np\n",
    "import time\n",
    "\n",
    "# visualize\n",
    "import matplotlib.pyplot as plt\n",
    "import seaborn as sns\n",
    "\n",
    "# nlp libraries\n",
    "import nltk\n",
    "from nltk.corpus import stopwords\n",
    "from sklearn.feature_extraction.text import TfidfTransformer\n",
    "from sklearn.feature_extraction.text import CountVectorizer\n",
    "\n",
    "# preprocessing tools\n",
    "from sklearn.preprocessing import MinMaxScaler\n",
    "from sklearn.model_selection import train_test_split\n",
    "from sklearn.metrics import classification_report\n",
    "\n",
    "# neural net's  and pipeline library\n",
    "from sklearn.pipeline import Pipeline\n",
    "import tensorflow as tf\n",
    "from tensorflow.keras.models import Sequential\n",
    "from tensorflow.keras.layers import Dense , Dropout\n",
    "from tensorflow.keras.callbacks import EarlyStopping\n",
    "\n",
    "\n",
    "# unputting data\n",
    "train=pd.read_csv(r'C:\\Users\\Ismat\\OneDrive\\Рабочий стол\\document\\etc\\lesson_course\\projects\\nlp__kaggle_competition\\train.csv')\n",
    "test=pd.read_csv(r'C:\\Users\\Ismat\\OneDrive\\Рабочий стол\\document\\etc\\lesson_course\\projects\\nlp__kaggle_competition\\test.csv')\n",
    "sample_submission=pd.read_csv(r'C:\\Users\\Ismat\\OneDrive\\Рабочий стол\\document\\etc\\lesson_course\\projects\\nlp__kaggle_competition\\sample_submission.csv')\n",
    "\n",
    "\n",
    "### cleaner function\n",
    "def text_cleaner (text) :\n",
    "    punctuation = [char for char in text if char not in string.punctuation]\n",
    "    punctuation = ''.join (punctuation)\n",
    "    return [word for word in punctuation.split() if word.lower() not in stopwords.words('english')]\n"
   ]
  },
  {
   "cell_type": "code",
   "execution_count": 2,
   "id": "5a5158ba-9805-406a-acbc-0c865090c308",
   "metadata": {},
   "outputs": [
    {
     "name": "stdout",
     "output_type": "stream",
     "text": [
      "CPU times: total: 24.3 s\n",
      "Wall time: 25.7 s\n"
     ]
    }
   ],
   "source": [
    "%%time\n",
    "transformer = CountVectorizer(analyzer=text_cleaner).fit(train['text'])\n",
    "\n",
    "transformer_bow = transformer.transform(train['text'])\n",
    "\n",
    "tf_idf_transformer = TfidfTransformer().fit(transformer_bow)\n",
    "\n",
    "text_tfidf = tf_idf_transformer.transform(transformer_bow)\n"
   ]
  },
  {
   "cell_type": "code",
   "execution_count": 3,
   "id": "23e5b409-7dd8-4856-89f8-6d44790ec257",
   "metadata": {},
   "outputs": [
    {
     "name": "stdout",
     "output_type": "stream",
     "text": [
      "CPU times: total: 0 ns\n",
      "Wall time: 56.5 ms\n"
     ]
    }
   ],
   "source": [
    "%%time\n",
    "\n",
    "ann = tf.keras.models.Sequential()\n",
    "\n",
    "early_stop = EarlyStopping(monitor='accuracy',mode='min')\n",
    "\n",
    "ann.add(tf.keras.layers.Dense(units=30, activation='relu'))\n",
    "ann.add(Dropout(.02))\n",
    "\n",
    "ann.add(tf.keras.layers.Dense(units=25, activation='relu'))\n",
    "ann.add(Dropout(.02))\n",
    "\n",
    "ann.add(tf.keras.layers.Dense(units=20, activation='relu'))\n",
    "ann.add(Dropout(.02))\n",
    "\n",
    "ann.add(tf.keras.layers.Dense(units=25, activation='relu'))\n",
    "ann.add(Dropout(.02))\n",
    "\n",
    "ann.add(tf.keras.layers.Dense(units=30, activation='relu'))\n",
    "ann.add(Dropout(.02))\n",
    "\n",
    "ann.add(tf.keras.layers.Dense(units=1, activation='sigmoid'))\n",
    "\n",
    "ann.compile(optimizer = 'rmsprop', loss = 'binary_crossentropy', metrics = ['accuracy'])"
   ]
  },
  {
   "cell_type": "code",
   "execution_count": 29,
   "id": "5da56833-699f-4ddf-8d9b-59ab21798bfc",
   "metadata": {},
   "outputs": [
    {
     "name": "stdout",
     "output_type": "stream",
     "text": [
      "Epoch 1/100000\n",
      "23/23 [==============================] - 1s 16ms/step - loss: 0.6747 - accuracy: 0.6220\n",
      "Epoch 2/100000\n",
      "23/23 [==============================] - 0s 10ms/step - loss: 0.5279 - accuracy: 0.8631\n"
     ]
    },
    {
     "data": {
      "text/plain": [
       "<keras.callbacks.History at 0x19372fc10a0>"
      ]
     },
     "execution_count": 29,
     "metadata": {},
     "output_type": "execute_result"
    }
   ],
   "source": [
    "ann.fit(x=text_tfidf.toarray(),y=train['target'],batch_size = 331,epochs =100000,callbacks=[early_stop])       "
   ]
  },
  {
   "cell_type": "code",
   "execution_count": 38,
   "id": "017d3698-9785-4d76-aa38-37bf6f26d092",
   "metadata": {},
   "outputs": [
    {
     "name": "stdout",
     "output_type": "stream",
     "text": [
      "238/238 [==============================] - 1s 3ms/step\n"
     ]
    },
    {
     "data": {
      "text/plain": [
       "array([[ True],\n",
       "       [ True],\n",
       "       [ True],\n",
       "       ...,\n",
       "       [ True],\n",
       "       [ True],\n",
       "       [ True]])"
      ]
     },
     "execution_count": 38,
     "metadata": {},
     "output_type": "execute_result"
    }
   ],
   "source": [
    "ann_prediction = ann.predict(x=text_tfidf.toarray())\n",
    "ann_prediction = (ann_prediction > 0.5)\n",
    "ann_prediction"
   ]
  },
  {
   "cell_type": "code",
   "execution_count": 41,
   "id": "6ef6f093-84a5-43a9-9a2b-cce42b0b5a8c",
   "metadata": {},
   "outputs": [
    {
     "name": "stdout",
     "output_type": "stream",
     "text": [
      "              precision    recall  f1-score   support\n",
      "\n",
      "           0       0.89      0.99      0.93      4342\n",
      "           1       0.98      0.83      0.90      3271\n",
      "\n",
      "    accuracy                           0.92      7613\n",
      "   macro avg       0.93      0.91      0.92      7613\n",
      "weighted avg       0.93      0.92      0.92      7613\n",
      "\n"
     ]
    }
   ],
   "source": [
    "print (classification_report(train['target'], ann_prediction))"
   ]
  },
  {
   "cell_type": "code",
   "execution_count": 22,
   "id": "4d817ffd-8483-4173-8ebe-b91dca027e3b",
   "metadata": {},
   "outputs": [],
   "source": [
    "# data = pd.DataFrame({'id': train.id,'original_target' : train.target,'target_predicted': np.ravel(ann_prediction)})\n",
    "# data['target_predicted'][data['target_predicted']==True]=int(1)\n",
    "# data['target_predicted'][data['target_predicted']==False]=int(0)\n",
    "# data"
   ]
  },
  {
   "cell_type": "code",
   "execution_count": 35,
   "id": "5736820d-f132-4acb-a9a9-bfacaa266712",
   "metadata": {},
   "outputs": [],
   "source": [
    "%%time\n",
    "transformer_1 = CountVectorizer(analyzer=text_cleaner).fit(test['text'])\n",
    "\n",
    "transformer_bow_1 = transformer_1.transform(test['text'])\n",
    "\n",
    "tf_idf_transformer_1 = TfidfTransformer().fit(transformer_bow_1)\n",
    "\n",
    "text_tfidf_1 = tf_idf_transformer_1.transform(transformer_bow_1)\n"
   ]
  },
  {
   "cell_type": "code",
   "execution_count": 36,
   "id": "8d1fc988-856b-4cc3-bac5-72fdabc53f11",
   "metadata": {},
   "outputs": [],
   "source": []
  },
  {
   "cell_type": "code",
   "execution_count": null,
   "id": "db0836e4-ed80-4618-93ce-a48620332469",
   "metadata": {},
   "outputs": [],
   "source": []
  },
  {
   "cell_type": "code",
   "execution_count": null,
   "id": "d344d230-9bc3-4b85-83b7-394aa4a1f57f",
   "metadata": {},
   "outputs": [],
   "source": []
  },
  {
   "cell_type": "code",
   "execution_count": null,
   "id": "3bcb3028-61e9-4654-9bac-ed3591aa9c00",
   "metadata": {},
   "outputs": [],
   "source": []
  },
  {
   "cell_type": "code",
   "execution_count": null,
   "id": "025571be-6ba5-436c-b6c9-e587d5e3ba21",
   "metadata": {},
   "outputs": [],
   "source": []
  },
  {
   "cell_type": "code",
   "execution_count": null,
   "id": "4afb923b-11bc-4661-add6-c789cb01ae7e",
   "metadata": {},
   "outputs": [],
   "source": []
  },
  {
   "cell_type": "code",
   "execution_count": null,
   "id": "716e6172-08e6-41ed-aefb-748fb82a0fde",
   "metadata": {},
   "outputs": [],
   "source": []
  },
  {
   "cell_type": "code",
   "execution_count": null,
   "id": "93e56c46-f133-4cd2-9dd4-bb8823d7dae7",
   "metadata": {},
   "outputs": [],
   "source": []
  },
  {
   "cell_type": "code",
   "execution_count": null,
   "id": "e4540d83-950c-4e3f-8d4c-293a7441671c",
   "metadata": {},
   "outputs": [],
   "source": []
  },
  {
   "cell_type": "code",
   "execution_count": null,
   "id": "f827bbba-2079-44d3-9b57-1dea8a93fadb",
   "metadata": {},
   "outputs": [],
   "source": []
  },
  {
   "cell_type": "code",
   "execution_count": null,
   "id": "255ac8df-1481-4ebf-b668-43caca2dc005",
   "metadata": {},
   "outputs": [],
   "source": []
  },
  {
   "cell_type": "code",
   "execution_count": null,
   "id": "ca59089f-eadc-4967-af95-345ef86d8444",
   "metadata": {},
   "outputs": [],
   "source": []
  },
  {
   "cell_type": "code",
   "execution_count": null,
   "id": "8f2fcf22-3940-4dea-8d0c-bd15446881d9",
   "metadata": {},
   "outputs": [],
   "source": []
  },
  {
   "cell_type": "code",
   "execution_count": null,
   "id": "e07ace2f-a704-4ee8-abfe-2debaadd6270",
   "metadata": {},
   "outputs": [],
   "source": []
  },
  {
   "cell_type": "code",
   "execution_count": null,
   "id": "e75bb8d3-dd6b-437a-bc34-b31c99f2f715",
   "metadata": {},
   "outputs": [],
   "source": []
  },
  {
   "cell_type": "code",
   "execution_count": null,
   "id": "c5eedf64-d335-466c-951d-ba14c56a4a0b",
   "metadata": {},
   "outputs": [],
   "source": []
  },
  {
   "cell_type": "code",
   "execution_count": null,
   "id": "7c1ea9e3-aad9-4039-94a9-ab48f7658366",
   "metadata": {},
   "outputs": [],
   "source": []
  },
  {
   "cell_type": "code",
   "execution_count": null,
   "id": "c8e5e544-54d2-4183-b4a8-f450220d7790",
   "metadata": {},
   "outputs": [],
   "source": []
  },
  {
   "cell_type": "code",
   "execution_count": null,
   "id": "3d7312bf-d004-494d-ba2e-140b9551983f",
   "metadata": {},
   "outputs": [],
   "source": []
  },
  {
   "cell_type": "code",
   "execution_count": null,
   "id": "45c4240c-0989-483f-bf1c-0ea14043ffa7",
   "metadata": {},
   "outputs": [],
   "source": []
  },
  {
   "cell_type": "code",
   "execution_count": null,
   "id": "059fcc78-60a5-424c-86ea-ae4c061c5607",
   "metadata": {},
   "outputs": [],
   "source": []
  },
  {
   "cell_type": "code",
   "execution_count": null,
   "id": "35da4942-d4cd-422d-bb56-2f50d15be73f",
   "metadata": {},
   "outputs": [],
   "source": []
  },
  {
   "cell_type": "code",
   "execution_count": null,
   "id": "18b7f25e-48dc-47c8-a248-89ddb4746a93",
   "metadata": {},
   "outputs": [],
   "source": []
  },
  {
   "cell_type": "code",
   "execution_count": null,
   "id": "51e619fa-8551-4ffa-bbe1-bef5db5ec5cc",
   "metadata": {},
   "outputs": [],
   "source": []
  },
  {
   "cell_type": "code",
   "execution_count": null,
   "id": "92d1e412-0df0-49c7-890a-ebd3910e5abb",
   "metadata": {},
   "outputs": [],
   "source": []
  },
  {
   "cell_type": "code",
   "execution_count": null,
   "id": "7783d352-4280-4646-b709-f2b94c781033",
   "metadata": {},
   "outputs": [],
   "source": []
  },
  {
   "cell_type": "code",
   "execution_count": null,
   "id": "20f8713b-1898-4d80-bc54-44b0946baf1c",
   "metadata": {},
   "outputs": [],
   "source": []
  },
  {
   "cell_type": "code",
   "execution_count": null,
   "id": "f5a2e78e-7223-44fa-9d73-836cd5ff2743",
   "metadata": {},
   "outputs": [],
   "source": []
  },
  {
   "cell_type": "code",
   "execution_count": null,
   "id": "09c48562-16da-40ca-8814-d5e4ff68ad9b",
   "metadata": {},
   "outputs": [],
   "source": []
  },
  {
   "cell_type": "code",
   "execution_count": null,
   "id": "31758783-7e4f-429b-8239-d8b730186115",
   "metadata": {},
   "outputs": [],
   "source": []
  },
  {
   "cell_type": "code",
   "execution_count": null,
   "id": "1ba2b107-c7e1-4414-a196-3cfb4c40a54e",
   "metadata": {},
   "outputs": [],
   "source": []
  },
  {
   "cell_type": "code",
   "execution_count": null,
   "id": "b8ad22ca-f892-4c21-8058-1361b62824f0",
   "metadata": {},
   "outputs": [],
   "source": []
  },
  {
   "cell_type": "code",
   "execution_count": null,
   "id": "98aeab4d-f5b8-4a9f-a62f-10466b183dfa",
   "metadata": {},
   "outputs": [],
   "source": []
  },
  {
   "cell_type": "code",
   "execution_count": null,
   "id": "08e3fe55-c5bc-45a4-bb0b-5252c4413d52",
   "metadata": {},
   "outputs": [],
   "source": []
  },
  {
   "cell_type": "code",
   "execution_count": null,
   "id": "8ba2dd3c-24f2-4a0c-9266-624d2a304ae8",
   "metadata": {},
   "outputs": [],
   "source": []
  },
  {
   "cell_type": "code",
   "execution_count": null,
   "id": "af7bb223-9b97-4dcb-9ceb-f640cf234f8f",
   "metadata": {},
   "outputs": [],
   "source": []
  },
  {
   "cell_type": "code",
   "execution_count": null,
   "id": "433f5340-5a28-468b-a569-cf4134a0bbed",
   "metadata": {},
   "outputs": [],
   "source": []
  },
  {
   "cell_type": "code",
   "execution_count": null,
   "id": "0ac10386-8ad5-4bb0-a636-c10dd5f80ee7",
   "metadata": {},
   "outputs": [],
   "source": []
  }
 ],
 "metadata": {
  "kernelspec": {
   "display_name": "Python 3 (ipykernel)",
   "language": "python",
   "name": "python3"
  },
  "language_info": {
   "codemirror_mode": {
    "name": "ipython",
    "version": 3
   },
   "file_extension": ".py",
   "mimetype": "text/x-python",
   "name": "python",
   "nbconvert_exporter": "python",
   "pygments_lexer": "ipython3",
   "version": "3.9.7"
  }
 },
 "nbformat": 4,
 "nbformat_minor": 5
}
